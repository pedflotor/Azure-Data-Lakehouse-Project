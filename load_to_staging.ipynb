{
 "cells": [
  {
   "cell_type": "markdown",
   "metadata": {
    "application/vnd.databricks.v1+cell": {
     "cellMetadata": {},
     "inputWidgets": {},
     "nuid": "c8f4532e-b368-4fa3-b2a9-2360c05ea1dd",
     "showTitle": false,
     "title": ""
    }
   },
   "source": [
    "## Create SQL tables from Delta Lake"
   ]
  },
  {
   "cell_type": "markdown",
   "metadata": {
    "application/vnd.databricks.v1+cell": {
     "cellMetadata": {},
     "inputWidgets": {},
     "nuid": "9b95183e-dbb1-46a4-bf5b-5087bf7a0ab7",
     "showTitle": false,
     "title": ""
    }
   },
   "source": [
    "### Trips"
   ]
  },
  {
   "cell_type": "code",
   "execution_count": 0,
   "metadata": {
    "application/vnd.databricks.v1+cell": {
     "cellMetadata": {
      "byteLimit": 2048000,
      "rowLimit": 10000
     },
     "inputWidgets": {},
     "nuid": "d4814748-27d5-4734-a013-d41379e35569",
     "showTitle": false,
     "title": ""
    }
   },
   "outputs": [
    {
     "output_type": "execute_result",
     "data": {
      "text/plain": [
       "DataFrame[]"
      ]
     },
     "execution_count": 5,
     "metadata": {},
     "output_type": "execute_result"
    }
   ],
   "source": [
    "# Create stg_trips\n",
    "if(spark._jsparkSession.catalog().tableExists('default', 'stg_trips') == True):\n",
    "    spark.sql(\"DROP TABLE IF EXISTS stg_trips\")\n",
    "    \n",
    "spark.sql(\"CREATE TABLE stg_trips USING DELTA LOCATION '/delta/trips'\")"
   ]
  },
  {
   "cell_type": "markdown",
   "metadata": {
    "application/vnd.databricks.v1+cell": {
     "cellMetadata": {},
     "inputWidgets": {},
     "nuid": "33073097-88cc-4ff9-b66f-eeb1f9002986",
     "showTitle": false,
     "title": ""
    }
   },
   "source": [
    "### Stations"
   ]
  },
  {
   "cell_type": "code",
   "execution_count": 0,
   "metadata": {
    "application/vnd.databricks.v1+cell": {
     "cellMetadata": {
      "byteLimit": 2048000,
      "rowLimit": 10000
     },
     "inputWidgets": {},
     "nuid": "5cbeb5c1-9546-4167-99a0-f55130402424",
     "showTitle": false,
     "title": ""
    }
   },
   "outputs": [
    {
     "output_type": "execute_result",
     "data": {
      "text/plain": [
       "DataFrame[]"
      ]
     },
     "execution_count": 2,
     "metadata": {},
     "output_type": "execute_result"
    }
   ],
   "source": [
    "# Create stg_stations\n",
    "if(spark._jsparkSession.catalog().tableExists('default', 'stg_stations') == True):\n",
    "    spark.sql(\"DROP TABLE IF EXISTS stg_stations\")\n",
    "    \n",
    "spark.sql(\"CREATE TABLE stg_stations USING DELTA LOCATION '/delta/stations'\")"
   ]
  },
  {
   "cell_type": "markdown",
   "metadata": {
    "application/vnd.databricks.v1+cell": {
     "cellMetadata": {},
     "inputWidgets": {},
     "nuid": "27539fce-c03e-4b75-b274-962387786a00",
     "showTitle": false,
     "title": ""
    }
   },
   "source": [
    "### Riders"
   ]
  },
  {
   "cell_type": "code",
   "execution_count": 0,
   "metadata": {
    "application/vnd.databricks.v1+cell": {
     "cellMetadata": {
      "byteLimit": 2048000,
      "rowLimit": 10000
     },
     "inputWidgets": {},
     "nuid": "4c6b1af7-57b8-44a9-9f5f-aebf1a9b6f17",
     "showTitle": false,
     "title": ""
    }
   },
   "outputs": [
    {
     "output_type": "execute_result",
     "data": {
      "text/plain": [
       "DataFrame[]"
      ]
     },
     "execution_count": 7,
     "metadata": {},
     "output_type": "execute_result"
    }
   ],
   "source": [
    "# Create staging_riders\n",
    "if(spark._jsparkSession.catalog().tableExists('default', 'stg_riders') == True):\n",
    "    spark.sql(\"DROP TABLE IF EXISTS stg_riders\")\n",
    "    \n",
    "spark.sql(\"CREATE TABLE stg_riders USING DELTA LOCATION '/delta/riders'\")"
   ]
  },
  {
   "cell_type": "markdown",
   "metadata": {
    "application/vnd.databricks.v1+cell": {
     "cellMetadata": {},
     "inputWidgets": {},
     "nuid": "e059f76b-d670-4090-9bba-e40ea580560f",
     "showTitle": false,
     "title": ""
    }
   },
   "source": [
    "### Payments"
   ]
  },
  {
   "cell_type": "code",
   "execution_count": 0,
   "metadata": {
    "application/vnd.databricks.v1+cell": {
     "cellMetadata": {
      "byteLimit": 2048000,
      "rowLimit": 10000
     },
     "inputWidgets": {},
     "nuid": "0b1a817b-2a30-487f-b5ef-a76ec750a238",
     "showTitle": false,
     "title": ""
    }
   },
   "outputs": [
    {
     "output_type": "execute_result",
     "data": {
      "text/plain": [
       "DataFrame[]"
      ]
     },
     "execution_count": 6,
     "metadata": {},
     "output_type": "execute_result"
    }
   ],
   "source": [
    "# Create staging_payments\n",
    "if(spark._jsparkSession.catalog().tableExists('default', 'stg_payments') == True):\n",
    "    spark.sql(\"DROP TABLE IF EXISTS stg_payments\")\n",
    "    \n",
    "spark.sql(\"CREATE TABLE stg_payments USING DELTA LOCATION '/delta/payments'\")"
   ]
  },
  {
   "cell_type": "code",
   "execution_count": 0,
   "metadata": {
    "application/vnd.databricks.v1+cell": {
     "cellMetadata": {},
     "inputWidgets": {},
     "nuid": "65fdf118-c8a8-463e-94a4-771c80897250",
     "showTitle": false,
     "title": ""
    }
   },
   "outputs": [],
   "source": []
  }
 ],
 "metadata": {
  "application/vnd.databricks.v1+notebook": {
   "dashboards": [],
   "language": "python",
   "notebookMetadata": {
    "pythonIndentUnit": 4
   },
   "notebookName": "load_to_staging",
   "widgets": {}
  }
 },
 "nbformat": 4,
 "nbformat_minor": 0
}
