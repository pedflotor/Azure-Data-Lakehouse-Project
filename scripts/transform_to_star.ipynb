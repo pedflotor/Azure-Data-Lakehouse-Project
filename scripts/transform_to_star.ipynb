{
 "cells": [
  {
   "cell_type": "markdown",
   "metadata": {
    "application/vnd.databricks.v1+cell": {
     "cellMetadata": {},
     "inputWidgets": {},
     "nuid": "3029837c-a07e-4f66-9fc2-5f3b5d1b672a",
     "showTitle": false,
     "title": ""
    }
   },
   "source": [
    "## Transform the data to Star Schema"
   ]
  },
  {
   "cell_type": "code",
   "execution_count": 0,
   "metadata": {
    "application/vnd.databricks.v1+cell": {
     "cellMetadata": {
      "byteLimit": 2048000,
      "rowLimit": 10000
     },
     "inputWidgets": {},
     "nuid": "e7c8150d-4a95-4629-8098-e7c387d317c6",
     "showTitle": false,
     "title": ""
    }
   },
   "outputs": [],
   "source": [
    "from pyspark.sql.functions import *\n",
    "from pyspark.sql.types import TimestampType\n",
    "from pyspark.sql import functions as f\n",
    "from pyspark.sql.types import StringType"
   ]
  },
  {
   "cell_type": "markdown",
   "metadata": {
    "application/vnd.databricks.v1+cell": {
     "cellMetadata": {},
     "inputWidgets": {},
     "nuid": "88cf36cb-560a-4ebc-87de-1151aaa77ada",
     "showTitle": false,
     "title": ""
    }
   },
   "source": [
    "### fact_payment"
   ]
  },
  {
   "cell_type": "code",
   "execution_count": 0,
   "metadata": {
    "application/vnd.databricks.v1+cell": {
     "cellMetadata": {
      "byteLimit": 2048000,
      "rowLimit": 10000
     },
     "inputWidgets": {},
     "nuid": "cb077966-863b-4391-bf96-69e1c17e5d11",
     "showTitle": false,
     "title": ""
    }
   },
   "outputs": [
    {
     "output_type": "display_data",
     "data": {
      "text/html": [
       "<style scoped>\n",
       "  .table-result-container {\n",
       "    max-height: 300px;\n",
       "    overflow: auto;\n",
       "  }\n",
       "  table, th, td {\n",
       "    border: 1px solid black;\n",
       "    border-collapse: collapse;\n",
       "  }\n",
       "  th, td {\n",
       "    padding: 5px;\n",
       "  }\n",
       "  th {\n",
       "    text-align: left;\n",
       "  }\n",
       "</style><div class='table-result-container'><table class='table-result'><thead style='background-color: white'><tr><th>payment_id</th><th>date_id</th><th>amount</th><th>rider_id</th></tr></thead><tbody><tr><td>1</td><td>2019-05-01</td><td>9.0</td><td>1000</td></tr><tr><td>2</td><td>2019-06-01</td><td>9.0</td><td>1000</td></tr><tr><td>3</td><td>2019-07-01</td><td>9.0</td><td>1000</td></tr><tr><td>4</td><td>2019-08-01</td><td>9.0</td><td>1000</td></tr></tbody></table></div>"
      ]
     },
     "metadata": {
      "application/vnd.databricks.v1+output": {
       "addedWidgets": {},
       "aggData": [],
       "aggError": "",
       "aggOverflow": false,
       "aggSchema": [],
       "aggSeriesLimitReached": false,
       "aggType": "",
       "arguments": {},
       "columnCustomDisplayInfos": {},
       "data": [
        [
         "1",
         "2019-05-01",
         "9.0",
         "1000"
        ],
        [
         "2",
         "2019-06-01",
         "9.0",
         "1000"
        ],
        [
         "3",
         "2019-07-01",
         "9.0",
         "1000"
        ],
        [
         "4",
         "2019-08-01",
         "9.0",
         "1000"
        ]
       ],
       "datasetInfos": [],
       "dbfsResultPath": null,
       "isJsonSchema": true,
       "metadata": {},
       "overflow": false,
       "plotOptions": {
        "customPlotOptions": {},
        "displayType": "table",
        "pivotAggregation": null,
        "pivotColumns": null,
        "xColumns": null,
        "yColumns": null
       },
       "removedWidgets": [],
       "schema": [
        {
         "metadata": "{}",
         "name": "payment_id",
         "type": "\"string\""
        },
        {
         "metadata": "{}",
         "name": "date_id",
         "type": "\"string\""
        },
        {
         "metadata": "{}",
         "name": "amount",
         "type": "\"string\""
        },
        {
         "metadata": "{}",
         "name": "rider_id",
         "type": "\"string\""
        }
       ],
       "type": "table"
      }
     },
     "output_type": "display_data"
    }
   ],
   "source": [
    "payments = spark.table(\"default.stg_payments\")\n",
    "display(payments.limit(4))"
   ]
  },
  {
   "cell_type": "code",
   "execution_count": 0,
   "metadata": {
    "application/vnd.databricks.v1+cell": {
     "cellMetadata": {
      "byteLimit": 2048000,
      "rowLimit": 10000
     },
     "inputWidgets": {},
     "nuid": "d44e31f5-4692-49ac-9cb7-d829dea0f121",
     "showTitle": false,
     "title": ""
    }
   },
   "outputs": [],
   "source": [
    "spark.sql(\"drop table if exists default.fact_payment\")\n",
    "payments.dropDuplicates([\"payment_id\"]).write.format(\"delta\").mode(\"overwrite\").saveAsTable(\"default.fact_payment\")"
   ]
  },
  {
   "cell_type": "markdown",
   "metadata": {
    "application/vnd.databricks.v1+cell": {
     "cellMetadata": {},
     "inputWidgets": {},
     "nuid": "1e815a3d-9136-4f3f-8c47-ef62740b06a1",
     "showTitle": false,
     "title": ""
    }
   },
   "source": [
    "### dim_rider"
   ]
  },
  {
   "cell_type": "code",
   "execution_count": 0,
   "metadata": {
    "application/vnd.databricks.v1+cell": {
     "cellMetadata": {
      "byteLimit": 2048000,
      "rowLimit": 10000
     },
     "inputWidgets": {},
     "nuid": "f890194d-af8f-4a1b-9968-d93734c4bdcc",
     "showTitle": false,
     "title": ""
    }
   },
   "outputs": [
    {
     "output_type": "display_data",
     "data": {
      "text/html": [
       "<style scoped>\n",
       "  .table-result-container {\n",
       "    max-height: 300px;\n",
       "    overflow: auto;\n",
       "  }\n",
       "  table, th, td {\n",
       "    border: 1px solid black;\n",
       "    border-collapse: collapse;\n",
       "  }\n",
       "  th, td {\n",
       "    padding: 5px;\n",
       "  }\n",
       "  th {\n",
       "    text-align: left;\n",
       "  }\n",
       "</style><div class='table-result-container'><table class='table-result'><thead style='background-color: white'><tr><th>rider_id</th><th>first_name</th><th>last_name</th><th>address</th><th>birthday</th><th>account_start_date</th><th>account_end_date</th><th>is_member</th></tr></thead><tbody><tr><td>1000</td><td>Diana</td><td>Clark</td><td>1200 Alyssa Squares</td><td>1989-02-13</td><td>2019-04-23</td><td>null</td><td>True</td></tr><tr><td>1001</td><td>Jennifer</td><td>Smith</td><td>397 Diana Ferry</td><td>1976-08-10</td><td>2019-11-01</td><td>2020-09-01</td><td>True</td></tr><tr><td>1002</td><td>Karen</td><td>Smith</td><td>644 Brittany Row Apt. 097</td><td>1998-08-10</td><td>2022-02-04</td><td>null</td><td>True</td></tr><tr><td>1003</td><td>Bryan</td><td>Roberts</td><td>996 Dickerson Turnpike</td><td>1999-03-29</td><td>2019-08-26</td><td>null</td><td>False</td></tr></tbody></table></div>"
      ]
     },
     "metadata": {
      "application/vnd.databricks.v1+output": {
       "addedWidgets": {},
       "aggData": [],
       "aggError": "",
       "aggOverflow": false,
       "aggSchema": [],
       "aggSeriesLimitReached": false,
       "aggType": "",
       "arguments": {},
       "columnCustomDisplayInfos": {},
       "data": [
        [
         "1000",
         "Diana",
         "Clark",
         "1200 Alyssa Squares",
         "1989-02-13",
         "2019-04-23",
         null,
         "True"
        ],
        [
         "1001",
         "Jennifer",
         "Smith",
         "397 Diana Ferry",
         "1976-08-10",
         "2019-11-01",
         "2020-09-01",
         "True"
        ],
        [
         "1002",
         "Karen",
         "Smith",
         "644 Brittany Row Apt. 097",
         "1998-08-10",
         "2022-02-04",
         null,
         "True"
        ],
        [
         "1003",
         "Bryan",
         "Roberts",
         "996 Dickerson Turnpike",
         "1999-03-29",
         "2019-08-26",
         null,
         "False"
        ]
       ],
       "datasetInfos": [],
       "dbfsResultPath": null,
       "isJsonSchema": true,
       "metadata": {},
       "overflow": false,
       "plotOptions": {
        "customPlotOptions": {},
        "displayType": "table",
        "pivotAggregation": null,
        "pivotColumns": null,
        "xColumns": null,
        "yColumns": null
       },
       "removedWidgets": [],
       "schema": [
        {
         "metadata": "{}",
         "name": "rider_id",
         "type": "\"string\""
        },
        {
         "metadata": "{}",
         "name": "first_name",
         "type": "\"string\""
        },
        {
         "metadata": "{}",
         "name": "last_name",
         "type": "\"string\""
        },
        {
         "metadata": "{}",
         "name": "address",
         "type": "\"string\""
        },
        {
         "metadata": "{}",
         "name": "birthday",
         "type": "\"string\""
        },
        {
         "metadata": "{}",
         "name": "account_start_date",
         "type": "\"string\""
        },
        {
         "metadata": "{}",
         "name": "account_end_date",
         "type": "\"string\""
        },
        {
         "metadata": "{}",
         "name": "is_member",
         "type": "\"string\""
        }
       ],
       "type": "table"
      }
     },
     "output_type": "display_data"
    }
   ],
   "source": [
    "riders = spark.table(\"default.stg_riders\")\n",
    "display(riders.limit(4))"
   ]
  },
  {
   "cell_type": "code",
   "execution_count": 0,
   "metadata": {
    "application/vnd.databricks.v1+cell": {
     "cellMetadata": {
      "byteLimit": 2048000,
      "rowLimit": 10000
     },
     "inputWidgets": {},
     "nuid": "7273aa99-fa4a-4c77-82a8-43ac3fc3e96f",
     "showTitle": false,
     "title": ""
    }
   },
   "outputs": [],
   "source": [
    "spark.sql(\"drop table if exists default.dim_rider\")\n",
    "riders.dropDuplicates([\"rider_id\"]).write.format(\"delta\").mode(\"overwrite\").saveAsTable(\"default.dim_rider\")"
   ]
  },
  {
   "cell_type": "markdown",
   "metadata": {
    "application/vnd.databricks.v1+cell": {
     "cellMetadata": {},
     "inputWidgets": {},
     "nuid": "fc8f2fb6-9279-4115-8c7d-6d93c3124e78",
     "showTitle": false,
     "title": ""
    }
   },
   "source": [
    "### fact_trip"
   ]
  },
  {
   "cell_type": "code",
   "execution_count": 0,
   "metadata": {
    "application/vnd.databricks.v1+cell": {
     "cellMetadata": {
      "byteLimit": 2048000,
      "rowLimit": 10000
     },
     "inputWidgets": {},
     "nuid": "2e3b7d14-e455-4ead-952e-2aca009e4d1f",
     "showTitle": false,
     "title": ""
    }
   },
   "outputs": [
    {
     "output_type": "display_data",
     "data": {
      "text/html": [
       "<style scoped>\n",
       "  .table-result-container {\n",
       "    max-height: 300px;\n",
       "    overflow: auto;\n",
       "  }\n",
       "  table, th, td {\n",
       "    border: 1px solid black;\n",
       "    border-collapse: collapse;\n",
       "  }\n",
       "  th, td {\n",
       "    padding: 5px;\n",
       "  }\n",
       "  th {\n",
       "    text-align: left;\n",
       "  }\n",
       "</style><div class='table-result-container'><table class='table-result'><thead style='background-color: white'><tr><th>trip_id</th><th>rideable_type</th><th>started_at</th><th>ended_at</th><th>start_station_id</th><th>end_station_id</th><th>rider_id</th></tr></thead><tbody><tr><td>89E7AA6C29227EFF</td><td>classic_bike</td><td>2021-02-12 16:14:56</td><td>2021-02-12 16:21:43</td><td>525</td><td>660</td><td>71934</td></tr><tr><td>0FEFDE2603568365</td><td>classic_bike</td><td>2021-02-14 17:52:38</td><td>2021-02-14 18:12:09</td><td>525</td><td>16806</td><td>47854</td></tr><tr><td>E6159D746B2DBB91</td><td>electric_bike</td><td>2021-02-09 19:10:18</td><td>2021-02-09 19:19:10</td><td>KA1503000012</td><td>TA1305000029</td><td>70870</td></tr><tr><td>B32D3199F1C2E75B</td><td>classic_bike</td><td>2021-02-02 17:49:41</td><td>2021-02-02 17:54:06</td><td>637</td><td>TA1305000034</td><td>58974</td></tr><tr><td>83E463F23575F4BF</td><td>electric_bike</td><td>2021-02-23 15:07:23</td><td>2021-02-23 15:22:37</td><td>13216</td><td>TA1309000055</td><td>39608</td></tr><tr><td>BDAA7E3494E8D545</td><td>electric_bike</td><td>2021-02-24 15:43:33</td><td>2021-02-24 15:49:05</td><td>18003</td><td>KP1705001026</td><td>36267</td></tr><tr><td>A772742351171257</td><td>classic_bike</td><td>2021-02-01 17:47:42</td><td>2021-02-01 17:48:33</td><td>KP1705001026</td><td>KP1705001026</td><td>50104</td></tr><tr><td>295476889D9B79F8</td><td>classic_bike</td><td>2021-02-11 18:33:53</td><td>2021-02-11 18:35:09</td><td>18003</td><td>18003</td><td>19618</td></tr><tr><td>362087194BA4CC9A</td><td>classic_bike</td><td>2021-02-27 15:13:39</td><td>2021-02-27 15:36:36</td><td>KP1705001026</td><td>KP1705001026</td><td>16732</td></tr><tr><td>21630F715038CCB0</td><td>classic_bike</td><td>2021-02-20 08:59:42</td><td>2021-02-20 09:17:04</td><td>KP1705001026</td><td>KP1705001026</td><td>57068</td></tr></tbody></table></div>"
      ]
     },
     "metadata": {
      "application/vnd.databricks.v1+output": {
       "addedWidgets": {},
       "aggData": [],
       "aggError": "",
       "aggOverflow": false,
       "aggSchema": [],
       "aggSeriesLimitReached": false,
       "aggType": "",
       "arguments": {},
       "columnCustomDisplayInfos": {},
       "data": [
        [
         "89E7AA6C29227EFF",
         "classic_bike",
         "2021-02-12 16:14:56",
         "2021-02-12 16:21:43",
         "525",
         "660",
         "71934"
        ],
        [
         "0FEFDE2603568365",
         "classic_bike",
         "2021-02-14 17:52:38",
         "2021-02-14 18:12:09",
         "525",
         "16806",
         "47854"
        ],
        [
         "E6159D746B2DBB91",
         "electric_bike",
         "2021-02-09 19:10:18",
         "2021-02-09 19:19:10",
         "KA1503000012",
         "TA1305000029",
         "70870"
        ],
        [
         "B32D3199F1C2E75B",
         "classic_bike",
         "2021-02-02 17:49:41",
         "2021-02-02 17:54:06",
         "637",
         "TA1305000034",
         "58974"
        ],
        [
         "83E463F23575F4BF",
         "electric_bike",
         "2021-02-23 15:07:23",
         "2021-02-23 15:22:37",
         "13216",
         "TA1309000055",
         "39608"
        ],
        [
         "BDAA7E3494E8D545",
         "electric_bike",
         "2021-02-24 15:43:33",
         "2021-02-24 15:49:05",
         "18003",
         "KP1705001026",
         "36267"
        ],
        [
         "A772742351171257",
         "classic_bike",
         "2021-02-01 17:47:42",
         "2021-02-01 17:48:33",
         "KP1705001026",
         "KP1705001026",
         "50104"
        ],
        [
         "295476889D9B79F8",
         "classic_bike",
         "2021-02-11 18:33:53",
         "2021-02-11 18:35:09",
         "18003",
         "18003",
         "19618"
        ],
        [
         "362087194BA4CC9A",
         "classic_bike",
         "2021-02-27 15:13:39",
         "2021-02-27 15:36:36",
         "KP1705001026",
         "KP1705001026",
         "16732"
        ],
        [
         "21630F715038CCB0",
         "classic_bike",
         "2021-02-20 08:59:42",
         "2021-02-20 09:17:04",
         "KP1705001026",
         "KP1705001026",
         "57068"
        ]
       ],
       "datasetInfos": [],
       "dbfsResultPath": null,
       "isJsonSchema": true,
       "metadata": {},
       "overflow": false,
       "plotOptions": {
        "customPlotOptions": {},
        "displayType": "table",
        "pivotAggregation": null,
        "pivotColumns": null,
        "xColumns": null,
        "yColumns": null
       },
       "removedWidgets": [],
       "schema": [
        {
         "metadata": "{}",
         "name": "trip_id",
         "type": "\"string\""
        },
        {
         "metadata": "{}",
         "name": "rideable_type",
         "type": "\"string\""
        },
        {
         "metadata": "{}",
         "name": "started_at",
         "type": "\"string\""
        },
        {
         "metadata": "{}",
         "name": "ended_at",
         "type": "\"string\""
        },
        {
         "metadata": "{}",
         "name": "start_station_id",
         "type": "\"string\""
        },
        {
         "metadata": "{}",
         "name": "end_station_id",
         "type": "\"string\""
        },
        {
         "metadata": "{}",
         "name": "rider_id",
         "type": "\"string\""
        }
       ],
       "type": "table"
      }
     },
     "output_type": "display_data"
    }
   ],
   "source": [
    "trips = spark.table(\"default.stg_trips\")\n",
    "display(trips.limit(4))"
   ]
  },
  {
   "cell_type": "code",
   "execution_count": 0,
   "metadata": {
    "application/vnd.databricks.v1+cell": {
     "cellMetadata": {
      "byteLimit": 2048000,
      "rowLimit": 10000
     },
     "inputWidgets": {},
     "nuid": "529606b5-806e-43ef-822c-a37407fca558",
     "showTitle": false,
     "title": ""
    }
   },
   "outputs": [
    {
     "output_type": "display_data",
     "data": {
      "text/html": [
       "<style scoped>\n",
       "  .table-result-container {\n",
       "    max-height: 300px;\n",
       "    overflow: auto;\n",
       "  }\n",
       "  table, th, td {\n",
       "    border: 1px solid black;\n",
       "    border-collapse: collapse;\n",
       "  }\n",
       "  th, td {\n",
       "    padding: 5px;\n",
       "  }\n",
       "  th {\n",
       "    text-align: left;\n",
       "  }\n",
       "</style><div class='table-result-container'><table class='table-result'><thead style='background-color: white'><tr><th>trip_id</th><th>rider_id</th><th>start_station_id</th><th>end_station_id</th><th>started_at</th><th>ended_at</th><th>rideable_type</th><th>duration_in_min</th><th>rider_age</th></tr></thead><tbody><tr><td>222BB8E5059252D7</td><td>34062</td><td>KA1503000064</td><td>13021</td><td>2021-06-13 09:48:47</td><td>2021-06-13 10:07:23</td><td>classic_bike</td><td>19.0</td><td>30.0</td></tr><tr><td>1826E16CB5486018</td><td>5342</td><td>TA1306000010</td><td>13021</td><td>2021-06-21 22:59:13</td><td>2021-06-21 23:04:29</td><td>classic_bike</td><td>5.0</td><td>26.0</td></tr><tr><td>3D9B6A0A5330B04D</td><td>3714</td><td>TA1305000030</td><td>13021</td><td>2021-06-18 16:06:42</td><td>2021-06-18 16:12:02</td><td>classic_bike</td><td>5.0</td><td>26.0</td></tr><tr><td>07E82F5E9C9E490F</td><td>18793</td><td>TA1305000034</td><td>13021</td><td>2021-06-17 16:46:23</td><td>2021-06-17 17:02:45</td><td>classic_bike</td><td>16.0</td><td>19.0</td></tr><tr><td>A8E94BAECBF0C2DD</td><td>43342</td><td>TA1308000009</td><td>TA1308000009</td><td>2021-06-13 17:36:29</td><td>2021-06-13 18:30:39</td><td>docked_bike</td><td>54.0</td><td>28.0</td></tr><tr><td>378F4AB323AA1D14</td><td>6693</td><td>TA1308000009</td><td>TA1308000009</td><td>2021-06-13 13:20:10</td><td>2021-06-13 14:06:14</td><td>docked_bike</td><td>46.0</td><td>29.0</td></tr><tr><td>38AD311DC2EB1FBE</td><td>71480</td><td>KA1503000019</td><td>KA1503000019</td><td>2021-06-16 17:14:30</td><td>2021-06-16 17:28:34</td><td>docked_bike</td><td>14.0</td><td>56.0</td></tr><tr><td>1D466737F0B18097</td><td>50846</td><td>TA1308000009</td><td>TA1308000009</td><td>2021-06-27 14:51:52</td><td>2021-06-27 15:26:39</td><td>docked_bike</td><td>35.0</td><td>41.0</td></tr><tr><td>27E1142E1ACFAEFB</td><td>18951</td><td>13257</td><td>13257</td><td>2021-06-21 13:58:26</td><td>2021-06-21 13:58:53</td><td>electric_bike</td><td>0.0</td><td>22.0</td></tr><tr><td>67F2A115DAE77924</td><td>63987</td><td>TA1308000009</td><td>TA1308000009</td><td>2021-06-22 00:51:43</td><td>2021-06-22 01:08:25</td><td>classic_bike</td><td>17.0</td><td>37.0</td></tr></tbody></table></div>"
      ]
     },
     "metadata": {
      "application/vnd.databricks.v1+output": {
       "addedWidgets": {},
       "aggData": [],
       "aggError": "",
       "aggOverflow": false,
       "aggSchema": [],
       "aggSeriesLimitReached": false,
       "aggType": "",
       "arguments": {},
       "columnCustomDisplayInfos": {},
       "data": [
        [
         "222BB8E5059252D7",
         "34062",
         "KA1503000064",
         "13021",
         "2021-06-13 09:48:47",
         "2021-06-13 10:07:23",
         "classic_bike",
         19.0,
         30.0
        ],
        [
         "1826E16CB5486018",
         "5342",
         "TA1306000010",
         "13021",
         "2021-06-21 22:59:13",
         "2021-06-21 23:04:29",
         "classic_bike",
         5.0,
         26.0
        ],
        [
         "3D9B6A0A5330B04D",
         "3714",
         "TA1305000030",
         "13021",
         "2021-06-18 16:06:42",
         "2021-06-18 16:12:02",
         "classic_bike",
         5.0,
         26.0
        ],
        [
         "07E82F5E9C9E490F",
         "18793",
         "TA1305000034",
         "13021",
         "2021-06-17 16:46:23",
         "2021-06-17 17:02:45",
         "classic_bike",
         16.0,
         19.0
        ],
        [
         "A8E94BAECBF0C2DD",
         "43342",
         "TA1308000009",
         "TA1308000009",
         "2021-06-13 17:36:29",
         "2021-06-13 18:30:39",
         "docked_bike",
         54.0,
         28.0
        ],
        [
         "378F4AB323AA1D14",
         "6693",
         "TA1308000009",
         "TA1308000009",
         "2021-06-13 13:20:10",
         "2021-06-13 14:06:14",
         "docked_bike",
         46.0,
         29.0
        ],
        [
         "38AD311DC2EB1FBE",
         "71480",
         "KA1503000019",
         "KA1503000019",
         "2021-06-16 17:14:30",
         "2021-06-16 17:28:34",
         "docked_bike",
         14.0,
         56.0
        ],
        [
         "1D466737F0B18097",
         "50846",
         "TA1308000009",
         "TA1308000009",
         "2021-06-27 14:51:52",
         "2021-06-27 15:26:39",
         "docked_bike",
         35.0,
         41.0
        ],
        [
         "27E1142E1ACFAEFB",
         "18951",
         "13257",
         "13257",
         "2021-06-21 13:58:26",
         "2021-06-21 13:58:53",
         "electric_bike",
         0.0,
         22.0
        ],
        [
         "67F2A115DAE77924",
         "63987",
         "TA1308000009",
         "TA1308000009",
         "2021-06-22 00:51:43",
         "2021-06-22 01:08:25",
         "classic_bike",
         17.0,
         37.0
        ]
       ],
       "datasetInfos": [],
       "dbfsResultPath": null,
       "isJsonSchema": true,
       "metadata": {},
       "overflow": false,
       "plotOptions": {
        "customPlotOptions": {},
        "displayType": "table",
        "pivotAggregation": null,
        "pivotColumns": null,
        "xColumns": null,
        "yColumns": null
       },
       "removedWidgets": [],
       "schema": [
        {
         "metadata": "{}",
         "name": "trip_id",
         "type": "\"string\""
        },
        {
         "metadata": "{}",
         "name": "rider_id",
         "type": "\"string\""
        },
        {
         "metadata": "{}",
         "name": "start_station_id",
         "type": "\"string\""
        },
        {
         "metadata": "{}",
         "name": "end_station_id",
         "type": "\"string\""
        },
        {
         "metadata": "{}",
         "name": "started_at",
         "type": "\"string\""
        },
        {
         "metadata": "{}",
         "name": "ended_at",
         "type": "\"string\""
        },
        {
         "metadata": "{}",
         "name": "rideable_type",
         "type": "\"string\""
        },
        {
         "metadata": "{}",
         "name": "duration_in_min",
         "type": "\"double\""
        },
        {
         "metadata": "{}",
         "name": "rider_age",
         "type": "\"double\""
        }
       ],
       "type": "table"
      }
     },
     "output_type": "display_data"
    }
   ],
   "source": [
    "fact_trip = trips.join(riders, trips.rider_id == riders.rider_id,\"inner\") \\\n",
    "            .withColumn('duration_in_min', round((unix_timestamp(\"ended_at\") - unix_timestamp('started_at'))/60)) \\\n",
    "            .withColumn('rider_age', round(datediff(to_date(\"started_at\"), to_date(\"birthday\"))/365.25)) \\\n",
    "            .select(\"trip_id\", riders.rider_id, \"start_station_id\", \"end_station_id\", \"started_at\", \"ended_at\", \"rideable_type\",\"duration_in_min\", \"rider_age\")\n",
    "            \n",
    "display(fact_trip.limit(4))"
   ]
  },
  {
   "cell_type": "code",
   "execution_count": 0,
   "metadata": {
    "application/vnd.databricks.v1+cell": {
     "cellMetadata": {
      "byteLimit": 2048000,
      "rowLimit": 10000
     },
     "inputWidgets": {},
     "nuid": "830c7fde-fc8d-4f88-9917-dfd9923719f4",
     "showTitle": false,
     "title": ""
    }
   },
   "outputs": [],
   "source": [
    "spark.sql(\"drop table if exists default.fact_trip\")\n",
    "fact_trip.write.format(\"delta\").mode(\"overwrite\").saveAsTable(\"default.fact_trip\")"
   ]
  },
  {
   "cell_type": "markdown",
   "metadata": {
    "application/vnd.databricks.v1+cell": {
     "cellMetadata": {},
     "inputWidgets": {},
     "nuid": "7870ec35-59d0-440b-bc0f-6f69670cf599",
     "showTitle": false,
     "title": ""
    }
   },
   "source": [
    "### dim_station"
   ]
  },
  {
   "cell_type": "code",
   "execution_count": 0,
   "metadata": {
    "application/vnd.databricks.v1+cell": {
     "cellMetadata": {
      "byteLimit": 2048000,
      "rowLimit": 10000
     },
     "inputWidgets": {},
     "nuid": "0ff5e5bf-abf2-4397-88e0-d6f5344dad9e",
     "showTitle": false,
     "title": ""
    }
   },
   "outputs": [
    {
     "output_type": "display_data",
     "data": {
      "text/html": [
       "<style scoped>\n",
       "  .table-result-container {\n",
       "    max-height: 300px;\n",
       "    overflow: auto;\n",
       "  }\n",
       "  table, th, td {\n",
       "    border: 1px solid black;\n",
       "    border-collapse: collapse;\n",
       "  }\n",
       "  th, td {\n",
       "    padding: 5px;\n",
       "  }\n",
       "  th {\n",
       "    text-align: left;\n",
       "  }\n",
       "</style><div class='table-result-container'><table class='table-result'><thead style='background-color: white'><tr><th>station_id</th><th>name</th><th>latitude</th><th>longitude</th></tr></thead><tbody><tr><td>525</td><td>Glenwood Ave & Touhy Ave</td><td>42.012701</td><td>-87.66605799999999</td></tr><tr><td>KA1503000012</td><td>Clark St & Lake St</td><td>41.88579466666667</td><td>-87.63110066666668</td></tr><tr><td>637</td><td>Wood St & Chicago Ave</td><td>41.895634</td><td>-87.672069</td></tr><tr><td>13216</td><td>State St & 33rd St</td><td>41.8347335</td><td>-87.6258275</td></tr></tbody></table></div>"
      ]
     },
     "metadata": {
      "application/vnd.databricks.v1+output": {
       "addedWidgets": {},
       "aggData": [],
       "aggError": "",
       "aggOverflow": false,
       "aggSchema": [],
       "aggSeriesLimitReached": false,
       "aggType": "",
       "arguments": {},
       "columnCustomDisplayInfos": {},
       "data": [
        [
         "525",
         "Glenwood Ave & Touhy Ave",
         "42.012701",
         "-87.66605799999999"
        ],
        [
         "KA1503000012",
         "Clark St & Lake St",
         "41.88579466666667",
         "-87.63110066666668"
        ],
        [
         "637",
         "Wood St & Chicago Ave",
         "41.895634",
         "-87.672069"
        ],
        [
         "13216",
         "State St & 33rd St",
         "41.8347335",
         "-87.6258275"
        ]
       ],
       "datasetInfos": [],
       "dbfsResultPath": null,
       "isJsonSchema": true,
       "metadata": {},
       "overflow": false,
       "plotOptions": {
        "customPlotOptions": {},
        "displayType": "table",
        "pivotAggregation": null,
        "pivotColumns": null,
        "xColumns": null,
        "yColumns": null
       },
       "removedWidgets": [],
       "schema": [
        {
         "metadata": "{}",
         "name": "station_id",
         "type": "\"string\""
        },
        {
         "metadata": "{}",
         "name": "name",
         "type": "\"string\""
        },
        {
         "metadata": "{}",
         "name": "latitude",
         "type": "\"string\""
        },
        {
         "metadata": "{}",
         "name": "longitude",
         "type": "\"string\""
        }
       ],
       "type": "table"
      }
     },
     "output_type": "display_data"
    }
   ],
   "source": [
    "stations = spark.table(\"default.stg_stations\")\n",
    "display(stations.limit(4))"
   ]
  },
  {
   "cell_type": "code",
   "execution_count": 0,
   "metadata": {
    "application/vnd.databricks.v1+cell": {
     "cellMetadata": {
      "byteLimit": 2048000,
      "rowLimit": 10000
     },
     "inputWidgets": {},
     "nuid": "34417fc2-46e7-4ceb-a009-4ca8463c905b",
     "showTitle": false,
     "title": ""
    }
   },
   "outputs": [],
   "source": [
    "spark.sql(\"drop table if exists default.dim_station\")\n",
    "stations.dropDuplicates([\"station_id\"]).write.format(\"delta\").mode(\"overwrite\").saveAsTable(\"default.dim_station\")"
   ]
  },
  {
   "cell_type": "markdown",
   "metadata": {
    "application/vnd.databricks.v1+cell": {
     "cellMetadata": {},
     "inputWidgets": {},
     "nuid": "8b96a5af-a39d-48ba-9a99-e244dd64bbea",
     "showTitle": false,
     "title": ""
    }
   },
   "source": [
    "### dim_date"
   ]
  },
  {
   "cell_type": "code",
   "execution_count": 0,
   "metadata": {
    "application/vnd.databricks.v1+cell": {
     "cellMetadata": {
      "byteLimit": 2048000,
      "rowLimit": 10000
     },
     "inputWidgets": {},
     "nuid": "1f5544c9-0c21-4be3-9bf8-66460dc1bcf6",
     "showTitle": false,
     "title": ""
    }
   },
   "outputs": [
    {
     "output_type": "display_data",
     "data": {
      "text/html": [
       "<style scoped>\n",
       "  .table-result-container {\n",
       "    max-height: 300px;\n",
       "    overflow: auto;\n",
       "  }\n",
       "  table, th, td {\n",
       "    border: 1px solid black;\n",
       "    border-collapse: collapse;\n",
       "  }\n",
       "  th, td {\n",
       "    padding: 5px;\n",
       "  }\n",
       "  th {\n",
       "    text-align: left;\n",
       "  }\n",
       "</style><div class='table-result-container'><table class='table-result'><thead style='background-color: white'><tr><th>date_id</th><th>date</th><th>day</th><th>month</th><th>quarter</th><th>year</th><th>day_of_year</th><th>day_of_week</th></tr></thead><tbody><tr><td>2021-02-01 00:00:00</td><td>2021-02-01T00:00:00Z</td><td>1</td><td>2</td><td>1</td><td>2021</td><td>32</td><td>2</td></tr><tr><td>2021-02-02 00:00:00</td><td>2021-02-02T00:00:00Z</td><td>2</td><td>2</td><td>1</td><td>2021</td><td>33</td><td>3</td></tr><tr><td>2021-02-03 00:00:00</td><td>2021-02-03T00:00:00Z</td><td>3</td><td>2</td><td>1</td><td>2021</td><td>34</td><td>4</td></tr><tr><td>2021-02-04 00:00:00</td><td>2021-02-04T00:00:00Z</td><td>4</td><td>2</td><td>1</td><td>2021</td><td>35</td><td>5</td></tr></tbody></table></div>"
      ]
     },
     "metadata": {
      "application/vnd.databricks.v1+output": {
       "addedWidgets": {},
       "aggData": [],
       "aggError": "",
       "aggOverflow": false,
       "aggSchema": [],
       "aggSeriesLimitReached": false,
       "aggType": "",
       "arguments": {},
       "columnCustomDisplayInfos": {},
       "data": [
        [
         "2021-02-01 00:00:00",
         "2021-02-01T00:00:00Z",
         1,
         2,
         1,
         2021,
         32,
         2
        ],
        [
         "2021-02-02 00:00:00",
         "2021-02-02T00:00:00Z",
         2,
         2,
         1,
         2021,
         33,
         3
        ],
        [
         "2021-02-03 00:00:00",
         "2021-02-03T00:00:00Z",
         3,
         2,
         1,
         2021,
         34,
         4
        ],
        [
         "2021-02-04 00:00:00",
         "2021-02-04T00:00:00Z",
         4,
         2,
         1,
         2021,
         35,
         5
        ]
       ],
       "datasetInfos": [],
       "dbfsResultPath": null,
       "isJsonSchema": true,
       "metadata": {},
       "overflow": false,
       "plotOptions": {
        "customPlotOptions": {},
        "displayType": "table",
        "pivotAggregation": null,
        "pivotColumns": null,
        "xColumns": null,
        "yColumns": null
       },
       "removedWidgets": [],
       "schema": [
        {
         "metadata": "{}",
         "name": "date_id",
         "type": "\"string\""
        },
        {
         "metadata": "{}",
         "name": "date",
         "type": "\"timestamp\""
        },
        {
         "metadata": "{}",
         "name": "day",
         "type": "\"integer\""
        },
        {
         "metadata": "{}",
         "name": "month",
         "type": "\"integer\""
        },
        {
         "metadata": "{}",
         "name": "quarter",
         "type": "\"integer\""
        },
        {
         "metadata": "{}",
         "name": "year",
         "type": "\"integer\""
        },
        {
         "metadata": "{}",
         "name": "day_of_year",
         "type": "\"integer\""
        },
        {
         "metadata": "{}",
         "name": "day_of_week",
         "type": "\"integer\""
        }
       ],
       "type": "table"
      }
     },
     "output_type": "display_data"
    }
   ],
   "source": [
    "min_date = trips.selectExpr('MIN(started_at) as started_at').first().asDict()['started_at']\n",
    "max_date = trips.selectExpr('MAX(ended_at) as ended_at').first().asDict() ['ended_at']\n",
    "\n",
    "expression = f\"sequence(to_date('{min_date}'), to_date('{max_date}'), interval 1 day)\"\n",
    "dim_date = spark.createDataFrame([(1,)], [\"date_id\"])\n",
    "\n",
    "dim_date = dim_date.withColumn(\"dateinit\", f.explode(f.expr(expression)))\n",
    "dim_date = dim_date.withColumn(\"date\", f.to_timestamp(dim_date.dateinit, \"yyyy-MM-dd\"))\n",
    "\n",
    "dim_date = dim_date \\\n",
    "            .withColumn(\"day\", f.dayofmonth(dim_date.date)) \\\n",
    "            .withColumn(\"month\", f.month(dim_date.date)) \\\n",
    "            .withColumn(\"quarter\", f.quarter(dim_date.date)) \\\n",
    "            .withColumn(\"year\", f.year(dim_date.date)) \\\n",
    "            .withColumn(\"day_of_year\", f.dayofyear(dim_date.date)) \\\n",
    "            .withColumn(\"day_of_week\", f.dayofweek(dim_date.date)) \\\n",
    "            .withColumn(\"date_id\", dim_date.date.cast(StringType())) \\\n",
    "            .drop(f.col(\"dateinit\"))\n",
    "\n",
    "display(dim_date.limit(4))"
   ]
  },
  {
   "cell_type": "code",
   "execution_count": 0,
   "metadata": {
    "application/vnd.databricks.v1+cell": {
     "cellMetadata": {
      "byteLimit": 2048000,
      "rowLimit": 10000
     },
     "inputWidgets": {},
     "nuid": "277669e9-7aa7-43d2-b0a8-2c3a866f98f4",
     "showTitle": false,
     "title": ""
    }
   },
   "outputs": [],
   "source": [
    "spark.sql(\"drop table if exists default.dim_time\")\n",
    "dim_date.write.format(\"delta\").mode(\"overwrite\").saveAsTable(\"default.dim_date\")"
   ]
  }
 ],
 "metadata": {
  "application/vnd.databricks.v1+notebook": {
   "dashboards": [],
   "language": "python",
   "notebookMetadata": {
    "pythonIndentUnit": 4
   },
   "notebookName": "transform_to_star",
   "widgets": {}
  }
 },
 "nbformat": 4,
 "nbformat_minor": 0
}
